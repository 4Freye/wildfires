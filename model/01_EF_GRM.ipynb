{
 "cells": [
  {
   "attachments": {},
   "cell_type": "markdown",
   "metadata": {},
   "source": [
    "In this notebook I take the data that was produced in the descriptive analysis section and fit a generalized radiation model (GRM) to the data."
   ]
  },
  {
   "cell_type": "code",
   "execution_count": 1,
   "metadata": {},
   "outputs": [],
   "source": [
    "import pandas as pd\n",
    "pre_kincaid = pd.read_csv('../data/clean/pre_kincaid.csv')\n",
    "pre_kincaid = pre_kincaid[pre_kincaid['county_o'] != pre_kincaid.county_d]\n",
    "pre_kincaid = pre_kincaid.merge(pre_kincaid.groupby('geoid_o')[['pop_flows']].sum().rename({'pop_flows':'outflow'}, axis=1), on = 'geoid_o', how='left')\n",
    "pre_kincaid['coord_o'] = pd.Series(pre_kincaid[['lat_o','lng_o']].itertuples(index=False, name=None))\n",
    "pre_kincaid['coord_d'] = pd.Series(pre_kincaid[['lat_d','lng_d']].itertuples(index=False, name=None))"
   ]
  },
  {
   "attachments": {},
   "cell_type": "markdown",
   "metadata": {},
   "source": [
    "This is a class to fit and predict with a generalized radiation model"
   ]
  },
  {
   "cell_type": "code",
   "execution_count": 2,
   "metadata": {},
   "outputs": [],
   "source": [
    "from geopy.distance import geodesic\n",
    "import numpy as np\n",
    "# from scipy.optimize import curve_fit\n",
    "from scipy.optimize import minimize\n",
    "from sklearn.preprocessing import FunctionTransformer\n",
    "\n",
    "class GeneralizedRadiationModel:\n",
    "    def __init__(self):\n",
    "        self.X_cols_i = None\n",
    "        self.X_cols_j = None\n",
    "        self.weights = None\n",
    "\n",
    "    def point_in_circle(self, origin, destination, point):\n",
    "        origin_destination_distance = geodesic(origin, destination).meters\n",
    "        origin_point_distance = geodesic(origin, point).meters\n",
    "        return ((origin_point_distance <= origin_destination_distance) and (point != origin) and (point != destination))\n",
    "\n",
    "    def calculate_v_ij(self, df):\n",
    "        v_ij_pre_weight = df.apply(lambda row: df.loc[df.coord_d.apply(lambda x: self.point_in_circle(row['coord_o'], row['coord_d'], x)), self.X_cols_j].sum(), axis=1)\n",
    "        return v_ij_pre_weight\n",
    "\n",
    "    def radiation_model(self, T_i, U_i, U_j, v_ij, weights):\n",
    "\n",
    "        weighted_U_i = U_i @ weights\n",
    "        weighted_U_j = U_j @ weights\n",
    "        weighted_v_ij = v_ij @ weights\n",
    "\n",
    "        return T_i * (weighted_U_i * weighted_U_j) / ((weighted_U_i + weighted_v_ij) * (weighted_U_i + weighted_U_j + weighted_v_ij))\n",
    "\n",
    "    def fit(self, df, coord_cols, X_cols_i, X_cols_j, T_i_col, T_ij_col):\n",
    "        self.X_cols_i = X_cols_i\n",
    "        self.X_cols_j = X_cols_j\n",
    "        self.outflow_col = T_i_col\n",
    "\n",
    "        coord_df = df[coord_cols]\n",
    "        X_i = df[X_cols_i].values\n",
    "        X_j = df[X_cols_j].values\n",
    "        T_i = df[T_i_col].values\n",
    "        T_ij = df[T_ij_col].values\n",
    "\n",
    "        v_ij_pre_weight = self.calculate_v_ij(df)\n",
    "        self.v_ij = v_ij_pre_weight\n",
    "\n",
    "        def error_function(weights, *args):\n",
    "            fitted_T_ij = self.radiation_model(T_i, X_i, X_j, v_ij_pre_weight, weights)\n",
    "            residuals = fitted_T_ij - T_ij\n",
    "            return np.sum(residuals**2)\n",
    "\n",
    "        # Initial weight values (can be adjusted based on your requirements)\n",
    "        initial_weights = np.ones(len(X_cols_j))\n",
    "\n",
    "        self.optimal_result = minimize(error_function, x0 =  initial_weights, method = 'Nelder-Mead')\n",
    "\n",
    "        self.weights = self.optimal_result.x\n",
    "\n",
    "    def predict(self, df):\n",
    "        v_ij = self.calculate_v_ij(df)\n",
    "        return self.radiation_model(df[self.outflow_col].values, df[self.X_cols_i].values, df[self.X_cols_j].values, v_ij.values, self.weights)\n",
    "\n",
    "# Define the logistic z-score transformation function\n",
    "def logistic_zscore(x):\n",
    "    x_mean = np.mean(x)\n",
    "    x_std = np.std(x)\n",
    "    transformed_x = 1 / (1 + np.exp(-(x - x_mean) / x_std))\n",
    "    return transformed_x\n",
    "\n",
    "# Create a FunctionTransformer with the logistic z-score transformation function\n",
    "scaler = FunctionTransformer(logistic_zscore)"
   ]
  },
  {
   "attachments": {},
   "cell_type": "markdown",
   "metadata": {},
   "source": [
    "Before fitting, let's scale the x variables."
   ]
  },
  {
   "cell_type": "code",
   "execution_count": 3,
   "metadata": {},
   "outputs": [],
   "source": [
    "pre_kincaid[['pop_o','pop_d']] = scaler.fit_transform(pre_kincaid[['pop_o','pop_d']])"
   ]
  },
  {
   "cell_type": "code",
   "execution_count": null,
   "metadata": {},
   "outputs": [],
   "source": [
    "grm = GeneralizedRadiationModel()\n",
    "grm.fit(pre_kincaid, ['coord_o','coord_d'], ['pop_o', 'eigen_centrality_o'], ['pop_d','eigen_centrality_d'], 'outflow','pop_flows')\n",
    "\n",
    "predicted = grm.predict(pre_kincaid)\n",
    "pre_kincaid['predicted_flow'] = predicted\n",
    "pre_kincaid[['v_ij_pop', 'v_ij_centrality']] = grm.v_ij"
   ]
  },
  {
   "cell_type": "code",
   "execution_count": null,
   "metadata": {},
   "outputs": [],
   "source": [
    "pre_kincaid.plot.scatter(x='predicted_flow', y='pop_flows', logx=True, logy=True)"
   ]
  },
  {
   "cell_type": "code",
   "execution_count": null,
   "metadata": {},
   "outputs": [],
   "source": [
    "grm_2 = GeneralizedRadiationModel()\n",
    "grm_2.fit(pre_kincaid, ['coord_o','coord_d'], ['pop_o'], ['pop_d'], 'outflow','pop_flows')\n",
    "\n",
    "predicted = grm_2.predict(pre_kincaid)\n",
    "pre_kincaid['predicted_flow'] = predicted\n",
    "pre_kincaid[['v_ij_pop']] = grm_2.v_ij"
   ]
  },
  {
   "cell_type": "code",
   "execution_count": null,
   "metadata": {},
   "outputs": [],
   "source": [
    "pre_kincaid.plot.scatter(x='predicted_flow', y='pop_flows', logx=True, logy=True)"
   ]
  },
  {
   "cell_type": "code",
   "execution_count": null,
   "metadata": {},
   "outputs": [],
   "source": [
    "np.round(grm.optimal_result['fun']/grm_2.optimal_result['fun'],3)"
   ]
  },
  {
   "attachments": {},
   "cell_type": "markdown",
   "metadata": {},
   "source": [
    "The inclusion of eigenvector centrality improves the RMSE by 5% relative to excluding it."
   ]
  },
  {
   "attachments": {},
   "cell_type": "markdown",
   "metadata": {},
   "source": [
    "- Model of traffic flows trained on the flow data from prior to the fire\n",
    "- Model of traffic flows trained on the flow data during the fire"
   ]
  },
  {
   "cell_type": "code",
   "execution_count": 5,
   "metadata": {},
   "outputs": [],
   "source": [
    "# long lats\n",
    "kincaid_coords = (38.792458, -122.780053)\n",
    "czu_coords = (37.17162, -122.22275)\n",
    "august_coords = (39.776, -122.673)"
   ]
  },
  {
   "cell_type": "code",
   "execution_count": 6,
   "metadata": {},
   "outputs": [],
   "source": [
    "path = '../data/clean/'\n",
    "during_kincaid = pd.read_csv(path + 'during_kincaid_merged.csv')\n",
    "pre_kincaid = pd.read_csv(path + 'pre_kincaid_merged.csv')\n",
    "pre_czu = pd.read_csv(path + 'pre_czu_merged.csv')\n",
    "during_czu = pd.read_csv(path + 'during_czu_merged.csv')\n",
    "during_august = pd.read_csv(path + 'during_august_merged.csv')\n",
    "pre_august = pd.read_csv(path + 'pre_august_merged.csv')"
   ]
  },
  {
   "attachments": {},
   "cell_type": "markdown",
   "metadata": {},
   "source": [
    "Convert to coordinates."
   ]
  },
  {
   "cell_type": "code",
   "execution_count": 7,
   "metadata": {},
   "outputs": [],
   "source": [
    "def create_coord(df):\n",
    "    df = df.copy()\n",
    "    df['coord_o'] = pd.Series(df[['lat_o','lng_o']].itertuples(index=False, name=None))\n",
    "    df['coord_d'] = pd.Series(df[['lat_d','lng_d']].itertuples(index=False, name=None))\n",
    "    return df\n",
    "\n",
    "dataframes = {\n",
    "        'during_august': during_august,\n",
    "    'pre_august': pre_august,\n",
    "    'during_kincaid': during_kincaid,\n",
    "    'pre_kincaid': pre_kincaid,\n",
    "    'pre_czu': pre_czu,\n",
    "    'during_czu': during_czu\n",
    "}\n",
    "\n",
    "for key in dataframes:\n",
    "    dataframes[key] = create_coord(dataframes[key])\n"
   ]
  },
  {
   "attachments": {},
   "cell_type": "markdown",
   "metadata": {},
   "source": [
    "Include outflows:"
   ]
  },
  {
   "cell_type": "code",
   "execution_count": 8,
   "metadata": {},
   "outputs": [],
   "source": [
    "def create_outflows(df):\n",
    "    df = df.copy()\n",
    "    df = df.merge(df.groupby('geoid_o')[['pop_flows']].sum().rename({'pop_flows':'outflow'}, axis=1), on = 'geoid_o', how='left')\n",
    "    return df\n",
    "\n",
    "for key in dataframes:\n",
    "    dataframes[key] = create_outflows(dataframes[key])"
   ]
  },
  {
   "attachments": {},
   "cell_type": "markdown",
   "metadata": {},
   "source": [
    "Calculate distance to fire."
   ]
  },
  {
   "cell_type": "code",
   "execution_count": 9,
   "metadata": {},
   "outputs": [],
   "source": [
    "def create_distance_to_fire(df, fire_coordinates):\n",
    "    df = df.copy()\n",
    "    df['distance_to_fire_o'] = df.coord_o.apply(lambda x: geodesic(x, fire_coordinates).kilometers)\n",
    "    df['distance_to_fire_d'] = df.coord_d.apply(lambda x: geodesic(x, fire_coordinates).kilometers)\n",
    "    return df\n",
    "\n",
    "for key in ['pre_kincaid','during_kincaid']:\n",
    "    dataframes[key] = create_distance_to_fire(dataframes[key], kincaid_coords)\n",
    "\n",
    "for key in ['pre_czu','during_czu']:\n",
    "    dataframes[key] = create_distance_to_fire(dataframes[key], czu_coords)\n",
    "\n",
    "for key in ['pre_august','during_august']:\n",
    "    dataframes[key] = create_distance_to_fire(dataframes[key], august_coords)"
   ]
  },
  {
   "attachments": {},
   "cell_type": "markdown",
   "metadata": {},
   "source": [
    "Scale the data:"
   ]
  },
  {
   "cell_type": "code",
   "execution_count": 10,
   "metadata": {},
   "outputs": [],
   "source": [
    "for key in dataframes:\n",
    "    dataframes[key][['pop_o','pop_d','distance_to_fire_o','distance_to_fire_d']] = dataframes[key][['pop_o','pop_d','distance_to_fire_o','distance_to_fire_d']].apply(logistic_zscore)"
   ]
  },
  {
   "attachments": {},
   "cell_type": "markdown",
   "metadata": {},
   "source": [
    "Include whether or not a path is blocked."
   ]
  },
  {
   "attachments": {},
   "cell_type": "markdown",
   "metadata": {},
   "source": [
    "Fit models on all the different datasets:"
   ]
  },
  {
   "cell_type": "code",
   "execution_count": 11,
   "metadata": {},
   "outputs": [
    {
     "name": "stdout",
     "output_type": "stream",
     "text": [
      "during_august\n"
     ]
    }
   ],
   "source": [
    "results = dict()\n",
    "\n",
    "for key in dataframes:\n",
    "    results.update({key: dict()})\n",
    "    results[key].update({'model' : GeneralizedRadiationModel()})\n",
    "    print(key)\n",
    "    results[key]['model'].fit(dataframes[key], ['coord_o','coord_d'], ['pop_o', 'eigen_centrality_o', 'distance_to_fire_o'], ['pop_d', 'eigen_centrality_d', 'distance_to_fire_d'], 'outflow','pop_flows')"
   ]
  },
  {
   "attachments": {},
   "cell_type": "markdown",
   "metadata": {},
   "source": []
  }
 ],
 "metadata": {
  "kernelspec": {
   "display_name": "base",
   "language": "python",
   "name": "python3"
  },
  "language_info": {
   "codemirror_mode": {
    "name": "ipython",
    "version": 3
   },
   "file_extension": ".py",
   "mimetype": "text/x-python",
   "name": "python",
   "nbconvert_exporter": "python",
   "pygments_lexer": "ipython3",
   "version": "3.9.16"
  },
  "orig_nbformat": 4
 },
 "nbformat": 4,
 "nbformat_minor": 2
}
