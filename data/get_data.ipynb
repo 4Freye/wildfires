{
 "cells": [
  {
   "attachments": {},
   "cell_type": "markdown",
   "metadata": {},
   "source": [
    "## Download the data"
   ]
  },
  {
   "cell_type": "code",
   "execution_count": 3,
   "metadata": {},
   "outputs": [],
   "source": [
    "import geopandas as gpd\n",
    "import pandas as pd\n",
    "from tqdm import tqdm\n",
    "\n",
    "class GetDailyCountyData:\n",
    "    def __init__(\n",
    "            self,\n",
    "            start_date,\n",
    "            end_date,\n",
    "            base_url,\n",
    "            states_shp_url,\n",
    "            state\n",
    "    ):\n",
    "        self.date_range = pd.date_range(start_date, end_date)\n",
    "        self.base_url = base_url\n",
    "        state_shp = gpd.read_file(states_shp_url)\n",
    "        self.state_shp = state_shp[state_shp.NAME == state].iloc[0]\n",
    "    \n",
    "    def download(self):\n",
    "        state_specific_df = pd.DataFrame()\n",
    "        for d in tqdm(self.date_range):\n",
    "            csv_url = self.base_url.format(d.year,'%02d' % d.month, '%02d' % d.day)\n",
    "            df = pd.read_csv(csv_url, engine='pyarrow')\n",
    "            df_o = gpd.GeoDataFrame(df[['lng_o','lat_o']],  geometry=gpd.points_from_xy(df.lng_o, df.lat_o))\n",
    "            df_d = gpd.GeoDataFrame(df[['lng_d','lat_d']],  geometry=gpd.points_from_xy(df.lng_d, df.lat_d))\n",
    "            df = df[(self.state_shp.geometry.contains(df_o.geometry)) & (self.state_shp.geometry.contains(df_d.geometry))]\n",
    "            state_specific_df = pd.concat([state_specific_df, df], axis=0)\n",
    "        return state_specific_df"
   ]
  },
  {
   "cell_type": "code",
   "execution_count": 15,
   "metadata": {},
   "outputs": [
    {
     "name": "stderr",
     "output_type": "stream",
     "text": [
      "  4%|▍         | 4/97 [01:04<24:25, 15.76s/it]"
     ]
    }
   ],
   "source": [
    "# Get data on the kincaid fire\n",
    "base_url = \"https://github.com/GeoDS/COVID19USFlows-DailyFlows/raw/master/daily_flows/county2county/daily_county2county_{}_{}_{}.csv\"\n",
    "states_shp_url = 'https://github.com/joncutrer/geopandas-tutorial/raw/master/data/usa-states-census-2014.shp'\n",
    "\n",
    "get_daily_data = GetDailyCountyData('2019-08-02','2019-11-06', base_url, states_shp_url, 'California')\n",
    "kincaid = get_daily_data.download()\n",
    "kincaid.to_csv('california_aug_nov_2019.csv')"
   ]
  },
  {
   "cell_type": "code",
   "execution_count": 14,
   "metadata": {},
   "outputs": [
    {
     "data": {
      "text/plain": [
       "datetime.date(2019, 8, 1)"
      ]
     },
     "execution_count": 14,
     "metadata": {},
     "output_type": "execute_result"
    }
   ],
   "source": []
  },
  {
   "cell_type": "code",
   "execution_count": null,
   "metadata": {},
   "outputs": [],
   "source": []
  }
 ],
 "metadata": {
  "kernelspec": {
   "display_name": "base",
   "language": "python",
   "name": "python3"
  },
  "language_info": {
   "codemirror_mode": {
    "name": "ipython",
    "version": 3
   },
   "file_extension": ".py",
   "mimetype": "text/x-python",
   "name": "python",
   "nbconvert_exporter": "python",
   "pygments_lexer": "ipython3",
   "version": "3.9.16"
  },
  "orig_nbformat": 4
 },
 "nbformat": 4,
 "nbformat_minor": 2
}
